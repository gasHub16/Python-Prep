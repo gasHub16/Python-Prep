{
 "cells": [
  {
   "attachments": {},
   "cell_type": "markdown",
   "metadata": {},
   "source": [
    "## Flujos de Control"
   ]
  },
  {
   "attachments": {},
   "cell_type": "markdown",
   "metadata": {},
   "source": [
    "1) Crear una variable que contenga un elemento del conjunto de números enteros y luego imprimir por pantalla si es mayor o menor a cero"
   ]
  },
  {
   "cell_type": "code",
   "execution_count": 3,
   "metadata": {},
   "outputs": [
    {
     "name": "stdout",
     "output_type": "stream",
     "text": [
      "Menor a 0\n"
     ]
    }
   ],
   "source": [
    "num=-1\n",
    "if num>0:\n",
    "    print(\"Mayor a 0\")\n",
    "elif num<0:\n",
    "    print(\"Menor a 0\")\n",
    "else:\n",
    "    print(\"igual a 0\")"
   ]
  },
  {
   "attachments": {},
   "cell_type": "markdown",
   "metadata": {},
   "source": [
    "2) Crear dos variables y un condicional que informe si son del mismo tipo de dato"
   ]
  },
  {
   "cell_type": "code",
   "execution_count": 4,
   "metadata": {},
   "outputs": [],
   "source": [
    "v1 = 1\n",
    "v2 = \"1\"\n",
    "if type(v1) == type(v2):\n",
    "    print(\"Son del mismo tipo\")\n",
    "else:\n",
    "    print(\"De tipos diferentes\")"
   ]
  },
  {
   "attachments": {},
   "cell_type": "markdown",
   "metadata": {},
   "source": [
    "3) Para los valores enteros del 1 al 20, imprimir por pantalla si es par o impar"
   ]
  },
  {
   "cell_type": "code",
   "execution_count": 10,
   "metadata": {},
   "outputs": [
    {
     "name": "stdout",
     "output_type": "stream",
     "text": [
      "El numero 1 es par\n",
      "El numero 2 es impar\n",
      "El numero 3 es par\n",
      "El numero 4 es impar\n",
      "El numero 5 es par\n",
      "El numero 6 es impar\n",
      "El numero 7 es par\n",
      "El numero 8 es impar\n",
      "El numero 9 es par\n",
      "El numero 10 es impar\n",
      "El numero 11 es par\n",
      "El numero 12 es impar\n",
      "El numero 13 es par\n",
      "El numero 14 es impar\n",
      "El numero 15 es par\n",
      "El numero 16 es impar\n",
      "El numero 17 es par\n",
      "El numero 18 es impar\n",
      "El numero 19 es par\n",
      "El numero 20 es impar\n"
     ]
    }
   ],
   "source": [
    "for num in range(1,21):\n",
    "    if num%2==0:\n",
    "        print(\"El numero \" + str(num) + \" es par\")\n",
    "    else:\n",
    "        print(\"El numero \" + str(num) + \" es impar\")"
   ]
  },
  {
   "attachments": {},
   "cell_type": "markdown",
   "metadata": {},
   "source": [
    "4) En un ciclo for mostrar para los valores entre 0 y 5 el resultado de elevarlo a la potencia igual a 3"
   ]
  },
  {
   "cell_type": "code",
   "execution_count": 11,
   "metadata": {},
   "outputs": [
    {
     "name": "stdout",
     "output_type": "stream",
     "text": [
      "0\n",
      "1\n",
      "8\n",
      "27\n",
      "64\n",
      "125\n"
     ]
    }
   ],
   "source": [
    "for num in range(0,6):\n",
    "    print(num**3)"
   ]
  },
  {
   "attachments": {},
   "cell_type": "markdown",
   "metadata": {},
   "source": [
    "5) Crear una variable que contenga un número entero y realizar un ciclo for la misma cantidad de ciclos"
   ]
  },
  {
   "cell_type": "code",
   "execution_count": 15,
   "metadata": {},
   "outputs": [
    {
     "name": "stdout",
     "output_type": "stream",
     "text": [
      "0\n",
      "1\n",
      "2\n",
      "3\n",
      "4\n"
     ]
    }
   ],
   "source": [
    "num=5\n",
    "for i in range(num):\n",
    "    print(i)"
   ]
  },
  {
   "attachments": {},
   "cell_type": "markdown",
   "metadata": {},
   "source": [
    "6) Utilizar un ciclo while para realizar el factorial de un número guardado en una variable, sólo si la variable contiene un número entero mayor a 0"
   ]
  },
  {
   "cell_type": "code",
   "execution_count": 34,
   "metadata": {},
   "outputs": [
    {
     "name": "stdout",
     "output_type": "stream",
     "text": [
      "6\n"
     ]
    }
   ],
   "source": [
    "num=3\n",
    "if type(num) == int and num >0:\n",
    "    factorial = 1\n",
    "    while num>1:\n",
    "        factorial *= num\n",
    "        num -= 1\n",
    "    print(factorial)"
   ]
  },
  {
   "attachments": {},
   "cell_type": "markdown",
   "metadata": {},
   "source": [
    "7) Crear un ciclo for dentro de un ciclo while"
   ]
  },
  {
   "cell_type": "code",
   "execution_count": 26,
   "metadata": {},
   "outputs": [
    {
     "name": "stdout",
     "output_type": "stream",
     "text": [
      "0\n",
      "1\n",
      "2\n",
      "3\n",
      "4\n",
      "0\n",
      "1\n",
      "2\n",
      "3\n",
      "0\n",
      "1\n",
      "2\n",
      "0\n",
      "1\n",
      "0\n"
     ]
    }
   ],
   "source": [
    "num = 5\n",
    "while num > 0:\n",
    "    for i in range(num):\n",
    "        print(i)\n",
    "    num -=1"
   ]
  },
  {
   "attachments": {},
   "cell_type": "markdown",
   "metadata": {},
   "source": [
    "8) Crear un ciclo while dentro de un ciclo for"
   ]
  },
  {
   "cell_type": "code",
   "execution_count": 25,
   "metadata": {},
   "outputs": [
    {
     "name": "stdout",
     "output_type": "stream",
     "text": [
      "1\n",
      "2\n",
      "1\n",
      "3\n",
      "2\n",
      "1\n",
      "4\n",
      "3\n",
      "2\n",
      "1\n"
     ]
    }
   ],
   "source": [
    "for i in range(5):\n",
    "    while i>0:\n",
    "        print(i)\n",
    "        i-=1"
   ]
  },
  {
   "attachments": {},
   "cell_type": "markdown",
   "metadata": {},
   "source": [
    "9) Imprimir los números primos existentes entre 0 y 30"
   ]
  },
  {
   "cell_type": "code",
   "execution_count": 37,
   "metadata": {},
   "outputs": [
    {
     "name": "stdout",
     "output_type": "stream",
     "text": [
      "2\n",
      "3\n",
      "5\n",
      "7\n",
      "11\n",
      "13\n",
      "17\n",
      "19\n",
      "23\n",
      "29\n"
     ]
    }
   ],
   "source": [
    "num=2\n",
    "Max = 30\n",
    "n=0\n",
    "while num < Max + 1:\n",
    "    if num>2:\n",
    "        for n in range(2, num):\n",
    "            if num % n == 0:\n",
    "                # print(\"No es primo, es divisor de \",n)\n",
    "                break\n",
    "    if n==0 or n==num-1:\n",
    "        print(num)\n",
    "    num += 1"
   ]
  },
  {
   "attachments": {},
   "cell_type": "markdown",
   "metadata": {},
   "source": [
    "10) ¿Se puede mejorar el proceso del punto 9? Utilizar las sentencias break y/ó continue para tal fin"
   ]
  },
  {
   "cell_type": "code",
   "execution_count": 42,
   "metadata": {},
   "outputs": [
    {
     "name": "stdout",
     "output_type": "stream",
     "text": [
      "2\n"
     ]
    }
   ],
   "source": []
  },
  {
   "attachments": {},
   "cell_type": "markdown",
   "metadata": {},
   "source": [
    "11) En los puntos 9 y 10, se diseño un código que encuentra números primos y además se lo optimizó. ¿Es posible saber en qué medida se optimizó?"
   ]
  },
  {
   "cell_type": "code",
   "execution_count": null,
   "metadata": {},
   "outputs": [],
   "source": []
  },
  {
   "attachments": {},
   "cell_type": "markdown",
   "metadata": {},
   "source": [
    "12) Aplicando continue, armar un ciclo while que solo imprima los valores divisibles por 12, dentro del rango de números de 100 a 300"
   ]
  },
  {
   "cell_type": "code",
   "execution_count": 1,
   "metadata": {},
   "outputs": [
    {
     "name": "stdout",
     "output_type": "stream",
     "text": [
      "108\n",
      "120\n",
      "132\n",
      "144\n",
      "156\n",
      "168\n",
      "180\n",
      "192\n",
      "204\n",
      "216\n",
      "228\n",
      "240\n",
      "252\n",
      "264\n",
      "276\n",
      "288\n",
      "300\n"
     ]
    }
   ],
   "source": [
    "for num in range(100,301):\n",
    "    if num%12==0:\n",
    "        print(num)"
   ]
  },
  {
   "attachments": {},
   "cell_type": "markdown",
   "metadata": {},
   "source": [
    "13) Utilizar la función **input()** que permite hacer ingresos por teclado, para encontrar números primos y dar la opción al usario de buscar el siguiente"
   ]
  },
  {
   "cell_type": "code",
   "execution_count": 30,
   "metadata": {},
   "outputs": [
    {
     "name": "stdout",
     "output_type": "stream",
     "text": [
      "2  es primo\n",
      "3  es primo\n",
      "5  es primo\n",
      "7  es primo\n",
      "11  es primo\n",
      "13  es primo\n"
     ]
    }
   ],
   "source": [
    "bInput = True\n",
    "while bInput:\n",
    "    nMax = input(\"Ingrese el numero maximo a buscar\") #Devuelve un valor str\n",
    "    for letra in nMax:\n",
    "        try:\n",
    "            int(letra)\n",
    "            continue\n",
    "        except ValueError:\n",
    "            break\n",
    "    nMax = int(nMax)\n",
    "    if nMax > 1:\n",
    "        bInput = False\n",
    "# Numero ingresado, ahora hay que buscar el primer numero primo\n",
    "nMin = 2\n",
    "while nMin <= nMax:\n",
    "    n = 0\n",
    "    if nMin>2:\n",
    "        for n in range(2, nMin):\n",
    "            if nMin % n == 0:\n",
    "                # print(nMin, \" no es primo, es divisor de \",n)\n",
    "                break\n",
    "    if n==0 or n==nMin-1:\n",
    "        print(nMin, \" es primo\")\n",
    "        if nMin < nMax:\n",
    "            bSeguir = input(\"¿Siguiente numero primo? ('Y' para seguir, cualquier tecla para cancelar)\")\n",
    "            if bSeguir !=  \"Y\" and bSeguir != \"y\":\n",
    "                break\n",
    "    nMin +=1\n"
   ]
  },
  {
   "attachments": {},
   "cell_type": "markdown",
   "metadata": {},
   "source": [
    "14) Crear un ciclo while que encuentre dentro del rango de 100 a 300 el primer número divisible por 3 y además múltiplo de 6"
   ]
  },
  {
   "cell_type": "code",
   "execution_count": 38,
   "metadata": {},
   "outputs": [
    {
     "name": "stdout",
     "output_type": "stream",
     "text": [
      "102\n"
     ]
    }
   ],
   "source": [
    "num = 100\n",
    "while num <= 300:\n",
    "    if num%6==0:\n",
    "        print(num)\n",
    "        break\n",
    "    num += 1"
   ]
  }
 ],
 "metadata": {
  "interpreter": {
   "hash": "c85384e4cb51c8b72350f3a8712cc8351fdc3955e32a27f9b60c6242ab125f01"
  },
  "kernelspec": {
   "display_name": "Python 3 (ipykernel)",
   "language": "python",
   "name": "python3"
  },
  "language_info": {
   "codemirror_mode": {
    "name": "ipython",
    "version": 3
   },
   "file_extension": ".py",
   "mimetype": "text/x-python",
   "name": "python",
   "nbconvert_exporter": "python",
   "pygments_lexer": "ipython3",
   "version": "3.11.6"
  }
 },
 "nbformat": 4,
 "nbformat_minor": 4
}
