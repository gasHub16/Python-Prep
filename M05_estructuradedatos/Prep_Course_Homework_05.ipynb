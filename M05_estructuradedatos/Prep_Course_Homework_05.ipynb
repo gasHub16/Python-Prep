{
 "cells": [
  {
   "attachments": {},
   "cell_type": "markdown",
   "metadata": {},
   "source": [
    "## Estructuras de Datos"
   ]
  },
  {
   "attachments": {},
   "cell_type": "markdown",
   "metadata": {},
   "source": [
    "1) Crear una lista que contenga nombres de ciudades del mundo que contenga más de 5 elementos e imprimir por pantalla"
   ]
  },
  {
   "cell_type": "code",
   "execution_count": 29,
   "metadata": {},
   "outputs": [
    {
     "name": "stdout",
     "output_type": "stream",
     "text": [
      "['Buenos Aires', 'Sao Pablo', 'Londres', 'Paris', 'Quito', 'Montevideo', 'Lisboa', 'Madrid', 'Leverkusen']\n"
     ]
    }
   ],
   "source": [
    "paises = [\"Buenos Aires\",\"Sao Pablo\",\"Londres\",\"Paris\",\"Quito\",\"Montevideo\",\"Lisboa\",\"Madrid\",\"Leverkusen\"]\n",
    "print(paises)"
   ]
  },
  {
   "attachments": {},
   "cell_type": "markdown",
   "metadata": {},
   "source": [
    "2) Imprimir por pantalla el segundo elemento de la lista"
   ]
  },
  {
   "cell_type": "code",
   "execution_count": 28,
   "metadata": {},
   "outputs": [
    {
     "name": "stdout",
     "output_type": "stream",
     "text": [
      "Sao Pablo\n"
     ]
    }
   ],
   "source": [
    "print(paises[1])"
   ]
  },
  {
   "attachments": {},
   "cell_type": "markdown",
   "metadata": {},
   "source": [
    "3) Imprimir por pantalla del segundo al cuarto elemento"
   ]
  },
  {
   "cell_type": "code",
   "execution_count": 30,
   "metadata": {},
   "outputs": [
    {
     "name": "stdout",
     "output_type": "stream",
     "text": [
      "['Sao Pablo', 'Londres', 'Paris']\n"
     ]
    }
   ],
   "source": [
    "print(paises[1:4])"
   ]
  },
  {
   "attachments": {},
   "cell_type": "markdown",
   "metadata": {},
   "source": [
    "4) Visualizar el tipo de dato de la lista"
   ]
  },
  {
   "cell_type": "code",
   "execution_count": 31,
   "metadata": {},
   "outputs": [
    {
     "name": "stdout",
     "output_type": "stream",
     "text": [
      "<class 'list'>\n"
     ]
    }
   ],
   "source": [
    "print(type(paises))"
   ]
  },
  {
   "attachments": {},
   "cell_type": "markdown",
   "metadata": {},
   "source": [
    "5) Visualizar todos los elementos de la lista a partir del tercero de manera genérica, es decir, sin explicitar la posición del último elemento"
   ]
  },
  {
   "cell_type": "code",
   "execution_count": 32,
   "metadata": {},
   "outputs": [
    {
     "name": "stdout",
     "output_type": "stream",
     "text": [
      "['Londres', 'Paris', 'Quito', 'Montevideo', 'Lisboa', 'Madrid', 'Leverkusen']\n"
     ]
    }
   ],
   "source": [
    "print(paises[2:])"
   ]
  },
  {
   "attachments": {},
   "cell_type": "markdown",
   "metadata": {},
   "source": [
    "6) Visualizar los primeros 4 elementos de la lista"
   ]
  },
  {
   "cell_type": "code",
   "execution_count": 33,
   "metadata": {},
   "outputs": [
    {
     "name": "stdout",
     "output_type": "stream",
     "text": [
      "['Buenos Aires', 'Sao Pablo', 'Londres', 'Paris']\n"
     ]
    }
   ],
   "source": [
    "print(paises[:4])"
   ]
  },
  {
   "attachments": {},
   "cell_type": "markdown",
   "metadata": {},
   "source": [
    "7) Agregar una ciudad más a la lista que ya exista y otra que no ¿Arroja algún tipo de error?"
   ]
  },
  {
   "cell_type": "code",
   "execution_count": 34,
   "metadata": {},
   "outputs": [],
   "source": [
    "paises.append(\"Buenos Aires\")\n",
    "paises.append(\"Cordoba\")"
   ]
  },
  {
   "attachments": {},
   "cell_type": "markdown",
   "metadata": {},
   "source": [
    "8) Agregar otra ciudad, pero en la cuarta posición"
   ]
  },
  {
   "cell_type": "code",
   "execution_count": 35,
   "metadata": {},
   "outputs": [
    {
     "data": {
      "text/plain": [
       "['Buenos Aires',\n",
       " 'Sao Pablo',\n",
       " 'Londres',\n",
       " 'Rosario',\n",
       " 'Paris',\n",
       " 'Quito',\n",
       " 'Montevideo',\n",
       " 'Lisboa',\n",
       " 'Madrid',\n",
       " 'Leverkusen',\n",
       " 'Buenos Aires',\n",
       " 'Cordoba']"
      ]
     },
     "execution_count": 35,
     "metadata": {},
     "output_type": "execute_result"
    }
   ],
   "source": [
    "paises.insert(3,\"Rosario\")"
   ]
  },
  {
   "attachments": {},
   "cell_type": "markdown",
   "metadata": {},
   "source": [
    "9) Concatenar otra lista a la ya creada"
   ]
  },
  {
   "cell_type": "code",
   "execution_count": 36,
   "metadata": {},
   "outputs": [
    {
     "data": {
      "text/plain": [
       "['Buenos Aires',\n",
       " 'Sao Pablo',\n",
       " 'Londres',\n",
       " 'Rosario',\n",
       " 'Paris',\n",
       " 'Quito',\n",
       " 'Montevideo',\n",
       " 'Lisboa',\n",
       " 'Madrid',\n",
       " 'Leverkusen',\n",
       " 'Buenos Aires',\n",
       " 'Cordoba',\n",
       " 'Mar del Plata',\n",
       " 'Resistencia',\n",
       " '\\tQuilmes']"
      ]
     },
     "execution_count": 36,
     "metadata": {},
     "output_type": "execute_result"
    }
   ],
   "source": [
    "otros_paises = [\"Mar del Plata\",\"Resistencia\",\"Quilmes\"]\n",
    "paises.extend(otros_paises)\n",
    "paises"
   ]
  },
  {
   "attachments": {},
   "cell_type": "markdown",
   "metadata": {},
   "source": [
    "10) Encontrar el índice de la ciudad que en el punto 7 agregamos duplicada. ¿Se nota alguna particularidad?"
   ]
  },
  {
   "cell_type": "code",
   "execution_count": 37,
   "metadata": {},
   "outputs": [
    {
     "data": {
      "text/plain": [
       "0"
      ]
     },
     "execution_count": 37,
     "metadata": {},
     "output_type": "execute_result"
    }
   ],
   "source": [
    "paises.index(\"Buenos Aires\") #Devuelve la primera posición en la que se encuentra el valor aunque este duplicado"
   ]
  },
  {
   "attachments": {},
   "cell_type": "markdown",
   "metadata": {},
   "source": [
    "11) ¿Qué pasa si se busca un elemento que no existe?"
   ]
  },
  {
   "cell_type": "code",
   "execution_count": 38,
   "metadata": {},
   "outputs": [
    {
     "ename": "ValueError",
     "evalue": "'Merlo' is not in list",
     "output_type": "error",
     "traceback": [
      "\u001b[1;31m---------------------------------------------------------------------------\u001b[0m",
      "\u001b[1;31mValueError\u001b[0m                                Traceback (most recent call last)",
      "\u001b[1;32mc:\\Users\\gasag\\Desktop\\Python-Prep\\M05_estructuradedatos\\Prep_Course_Homework_05.ipynb Cell 23\u001b[0m line \u001b[0;36m1\n\u001b[1;32m----> <a href='vscode-notebook-cell:/c%3A/Users/gasag/Desktop/Python-Prep/M05_estructuradedatos/Prep_Course_Homework_05.ipynb#X31sZmlsZQ%3D%3D?line=0'>1</a>\u001b[0m paises\u001b[39m.\u001b[39;49mindex(\u001b[39m\"\u001b[39;49m\u001b[39mMerlo\u001b[39;49m\u001b[39m\"\u001b[39;49m) \u001b[39m#Si no existe el valor devuelve un error\u001b[39;00m\n",
      "\u001b[1;31mValueError\u001b[0m: 'Merlo' is not in list"
     ]
    }
   ],
   "source": [
    "paises.index(\"Merlo\") #Si no existe el valor devuelve un error"
   ]
  },
  {
   "attachments": {},
   "cell_type": "markdown",
   "metadata": {},
   "source": [
    "12) Eliminar un elemento de la lista"
   ]
  },
  {
   "cell_type": "code",
   "execution_count": 39,
   "metadata": {},
   "outputs": [
    {
     "data": {
      "text/plain": [
       "['Buenos Aires',\n",
       " 'Sao Pablo',\n",
       " 'Londres',\n",
       " 'Rosario',\n",
       " 'Paris',\n",
       " 'Quito',\n",
       " 'Montevideo',\n",
       " 'Lisboa',\n",
       " 'Madrid',\n",
       " 'Buenos Aires',\n",
       " 'Cordoba',\n",
       " 'Mar del Plata',\n",
       " 'Resistencia',\n",
       " '\\tQuilmes']"
      ]
     },
     "execution_count": 39,
     "metadata": {},
     "output_type": "execute_result"
    }
   ],
   "source": [
    "paises.remove(\"Leverkusen\")\n",
    "paises"
   ]
  },
  {
   "attachments": {},
   "cell_type": "markdown",
   "metadata": {},
   "source": [
    "13) ¿Qué pasa si el elemento a eliminar no existe?"
   ]
  },
  {
   "cell_type": "code",
   "execution_count": 40,
   "metadata": {},
   "outputs": [
    {
     "ename": "ValueError",
     "evalue": "list.remove(x): x not in list",
     "output_type": "error",
     "traceback": [
      "\u001b[1;31m---------------------------------------------------------------------------\u001b[0m",
      "\u001b[1;31mValueError\u001b[0m                                Traceback (most recent call last)",
      "\u001b[1;32mc:\\Users\\gasag\\Desktop\\Python-Prep\\M05_estructuradedatos\\Prep_Course_Homework_05.ipynb Cell 27\u001b[0m line \u001b[0;36m1\n\u001b[1;32m----> <a href='vscode-notebook-cell:/c%3A/Users/gasag/Desktop/Python-Prep/M05_estructuradedatos/Prep_Course_Homework_05.ipynb#X35sZmlsZQ%3D%3D?line=0'>1</a>\u001b[0m paises\u001b[39m.\u001b[39;49mremove(\u001b[39m\"\u001b[39;49m\u001b[39mMerlo\u001b[39;49m\u001b[39m\"\u001b[39;49m) \u001b[39m#Indida error ya que el elemento no existe\u001b[39;00m\n",
      "\u001b[1;31mValueError\u001b[0m: list.remove(x): x not in list"
     ]
    }
   ],
   "source": [
    "paises.remove(\"Merlo\") #Indida error ya que el elemento no existe"
   ]
  },
  {
   "attachments": {},
   "cell_type": "markdown",
   "metadata": {},
   "source": [
    "14) Extraer el úlimo elemento de la lista, guardarlo en una variable e imprimirlo"
   ]
  },
  {
   "cell_type": "code",
   "execution_count": 41,
   "metadata": {},
   "outputs": [
    {
     "name": "stdout",
     "output_type": "stream",
     "text": [
      "\tQuilmes\n",
      "['Buenos Aires', 'Sao Pablo', 'Londres', 'Rosario', 'Paris', 'Quito', 'Montevideo', 'Lisboa', 'Madrid', 'Buenos Aires', 'Cordoba', 'Mar del Plata', 'Resistencia']\n"
     ]
    }
   ],
   "source": [
    "ultimo = paises.pop()\n",
    "print(ultimo)\n",
    "print(paises)"
   ]
  },
  {
   "attachments": {},
   "cell_type": "markdown",
   "metadata": {},
   "source": [
    "15) Mostrar la lista multiplicada por 4"
   ]
  },
  {
   "cell_type": "code",
   "execution_count": 42,
   "metadata": {},
   "outputs": [
    {
     "data": {
      "text/plain": [
       "['Buenos Aires',\n",
       " 'Sao Pablo',\n",
       " 'Londres',\n",
       " 'Rosario',\n",
       " 'Paris',\n",
       " 'Quito',\n",
       " 'Montevideo',\n",
       " 'Lisboa',\n",
       " 'Madrid',\n",
       " 'Buenos Aires',\n",
       " 'Cordoba',\n",
       " 'Mar del Plata',\n",
       " 'Resistencia',\n",
       " 'Buenos Aires',\n",
       " 'Sao Pablo',\n",
       " 'Londres',\n",
       " 'Rosario',\n",
       " 'Paris',\n",
       " 'Quito',\n",
       " 'Montevideo',\n",
       " 'Lisboa',\n",
       " 'Madrid',\n",
       " 'Buenos Aires',\n",
       " 'Cordoba',\n",
       " 'Mar del Plata',\n",
       " 'Resistencia',\n",
       " 'Buenos Aires',\n",
       " 'Sao Pablo',\n",
       " 'Londres',\n",
       " 'Rosario',\n",
       " 'Paris',\n",
       " 'Quito',\n",
       " 'Montevideo',\n",
       " 'Lisboa',\n",
       " 'Madrid',\n",
       " 'Buenos Aires',\n",
       " 'Cordoba',\n",
       " 'Mar del Plata',\n",
       " 'Resistencia',\n",
       " 'Buenos Aires',\n",
       " 'Sao Pablo',\n",
       " 'Londres',\n",
       " 'Rosario',\n",
       " 'Paris',\n",
       " 'Quito',\n",
       " 'Montevideo',\n",
       " 'Lisboa',\n",
       " 'Madrid',\n",
       " 'Buenos Aires',\n",
       " 'Cordoba',\n",
       " 'Mar del Plata',\n",
       " 'Resistencia']"
      ]
     },
     "execution_count": 42,
     "metadata": {},
     "output_type": "execute_result"
    }
   ],
   "source": [
    "paises*4"
   ]
  },
  {
   "attachments": {},
   "cell_type": "markdown",
   "metadata": {},
   "source": [
    "16) Crear una tupla que contenga los números enteros del 1 al 20"
   ]
  },
  {
   "cell_type": "code",
   "execution_count": 19,
   "metadata": {},
   "outputs": [
    {
     "data": {
      "text/plain": [
       "(1, 2, 3, 4, 5, 6, 7, 8, 9, 10, 11, 12, 13, 14, 15, 16, 17, 18, 19, 20)"
      ]
     },
     "execution_count": 19,
     "metadata": {},
     "output_type": "execute_result"
    }
   ],
   "source": [
    "numeros = (1,2,3,4,5,6,7,8,9,10,11,12,13,14,15,16,17,18,19,20)\n",
    "numeros"
   ]
  },
  {
   "attachments": {},
   "cell_type": "markdown",
   "metadata": {},
   "source": [
    "17) Imprimir desde el índice 10 al 15 de la tupla"
   ]
  },
  {
   "cell_type": "code",
   "execution_count": 25,
   "metadata": {},
   "outputs": [
    {
     "data": {
      "text/plain": [
       "(10, 11, 12, 13, 14, 15)"
      ]
     },
     "execution_count": 25,
     "metadata": {},
     "output_type": "execute_result"
    }
   ],
   "source": [
    "numeros[9:15]"
   ]
  },
  {
   "attachments": {},
   "cell_type": "markdown",
   "metadata": {},
   "source": [
    "18) Evaluar si los números 20 y 30 están dentro de la tupla"
   ]
  },
  {
   "cell_type": "code",
   "execution_count": 26,
   "metadata": {},
   "outputs": [
    {
     "name": "stdout",
     "output_type": "stream",
     "text": [
      "20:  True\n",
      "30:  False\n"
     ]
    }
   ],
   "source": [
    "print(\"20: \",20 in numeros)\n",
    "print(\"30: \",30 in numeros)"
   ]
  },
  {
   "attachments": {},
   "cell_type": "markdown",
   "metadata": {},
   "source": [
    "19) Con la lista creada en el punto 1, validar la existencia del elemento 'París' y si no existe, agregarlo. Utilizar una variable e informar lo sucedido."
   ]
  },
  {
   "cell_type": "code",
   "execution_count": 46,
   "metadata": {},
   "outputs": [
    {
     "name": "stdout",
     "output_type": "stream",
     "text": [
      "La ciudad  Paris  ya existe en la lista\n"
     ]
    }
   ],
   "source": [
    "nElem = \"Paris\"\n",
    "if nElem in paises:\n",
    "    print(\"La ciudad \",nElem,\" ya existe en la lista\")\n",
    "else:\n",
    "    paises.append(nElem)\n",
    "    print(\"La ciudad \",nElem, \"fue agregada a a lista\")"
   ]
  },
  {
   "attachments": {},
   "cell_type": "markdown",
   "metadata": {},
   "source": [
    "20) Mostrar la cantidad de veces que se encuentra un elemento específico dentro de la tupla y de la lista"
   ]
  },
  {
   "cell_type": "code",
   "execution_count": 47,
   "metadata": {},
   "outputs": [
    {
     "name": "stdout",
     "output_type": "stream",
     "text": [
      "2\n",
      "1\n"
     ]
    }
   ],
   "source": [
    "print(paises.count(\"Buenos Aires\"))\n",
    "print(numeros.count(2))"
   ]
  },
  {
   "attachments": {},
   "cell_type": "markdown",
   "metadata": {},
   "source": [
    "21) Convertir la tupla en una lista"
   ]
  },
  {
   "cell_type": "code",
   "execution_count": 48,
   "metadata": {},
   "outputs": [
    {
     "data": {
      "text/plain": [
       "[1, 2, 3, 4, 5, 6, 7, 8, 9, 10, 11, 12, 13, 14, 15, 16, 17, 18, 19, 20]"
      ]
     },
     "execution_count": 48,
     "metadata": {},
     "output_type": "execute_result"
    }
   ],
   "source": [
    "nlista_numeros = list(numeros)\n",
    "nlista_numeros"
   ]
  },
  {
   "attachments": {},
   "cell_type": "markdown",
   "metadata": {},
   "source": [
    "22) Desempaquetar solo los primeros 3 elementos de la tupla en 3 variables"
   ]
  },
  {
   "cell_type": "code",
   "execution_count": 52,
   "metadata": {},
   "outputs": [
    {
     "name": "stdout",
     "output_type": "stream",
     "text": [
      "1 2 3\n"
     ]
    }
   ],
   "source": [
    "uno,dos,tres,_,_,_,_,_,_,_,_,_,_,_,_,_,_,_,_,_ = numeros\n",
    "print(uno,dos,tres)"
   ]
  },
  {
   "attachments": {},
   "cell_type": "markdown",
   "metadata": {},
   "source": [
    "23) Crear un diccionario utilizando la lista crada en el punto 1, asignandole la clave \"ciudad\". Agregar tambien otras claves, como puede ser \"Pais\" y \"Continente\"."
   ]
  },
  {
   "cell_type": "code",
   "execution_count": 53,
   "metadata": {},
   "outputs": [
    {
     "data": {
      "text/plain": [
       "{'ciudad': ['Buenos Aires',\n",
       "  'Sao Pablo',\n",
       "  'Londres',\n",
       "  'Rosario',\n",
       "  'Paris',\n",
       "  'Quito',\n",
       "  'Montevideo',\n",
       "  'Lisboa',\n",
       "  'Madrid',\n",
       "  'Buenos Aires',\n",
       "  'Cordoba',\n",
       "  'Mar del Plata',\n",
       "  'Resistencia'],\n",
       " 'Pais': ['Buenos Aires',\n",
       "  'Sao Pablo',\n",
       "  'Londres',\n",
       "  'Rosario',\n",
       "  'Paris',\n",
       "  'Quito',\n",
       "  'Montevideo',\n",
       "  'Lisboa',\n",
       "  'Madrid',\n",
       "  'Leverkusen',\n",
       "  'Cordoba'],\n",
       " 'Continente': ['America',\n",
       "  'America',\n",
       "  'Europa',\n",
       "  'America',\n",
       "  'Europa',\n",
       "  'America',\n",
       "  'America',\n",
       "  'Europa',\n",
       "  'Europa',\n",
       "  'Europa',\n",
       "  'America']}"
      ]
     },
     "execution_count": 53,
     "metadata": {},
     "output_type": "execute_result"
    }
   ],
   "source": [
    "pais_dic = {\"ciudad\":paises,\n",
    "            \"Pais\":['Buenos Aires','Sao Pablo','Londres','Rosario','Paris','Quito','Montevideo','Lisboa','Madrid','Leverkusen','Cordoba'],\n",
    "            \"Continente\":[\"America\",\"America\",\"Europa\",\"America\",\"Europa\",\"America\",\"America\",\"Europa\",\"Europa\",\"Europa\",\"America\"]}\n",
    "pais_dic"
   ]
  },
  {
   "attachments": {},
   "cell_type": "markdown",
   "metadata": {},
   "source": [
    "24) Imprimir las claves del diccionario"
   ]
  },
  {
   "cell_type": "code",
   "execution_count": 54,
   "metadata": {},
   "outputs": [
    {
     "data": {
      "text/plain": [
       "dict_keys(['ciudad', 'Pais', 'Continente'])"
      ]
     },
     "execution_count": 54,
     "metadata": {},
     "output_type": "execute_result"
    }
   ],
   "source": [
    "pais_dic.keys()"
   ]
  },
  {
   "attachments": {},
   "cell_type": "markdown",
   "metadata": {},
   "source": [
    "25) Imprimir las ciudades a través de su clave"
   ]
  },
  {
   "cell_type": "code",
   "execution_count": 55,
   "metadata": {},
   "outputs": [
    {
     "data": {
      "text/plain": [
       "['Buenos Aires',\n",
       " 'Sao Pablo',\n",
       " 'Londres',\n",
       " 'Rosario',\n",
       " 'Paris',\n",
       " 'Quito',\n",
       " 'Montevideo',\n",
       " 'Lisboa',\n",
       " 'Madrid',\n",
       " 'Buenos Aires',\n",
       " 'Cordoba',\n",
       " 'Mar del Plata',\n",
       " 'Resistencia']"
      ]
     },
     "execution_count": 55,
     "metadata": {},
     "output_type": "execute_result"
    }
   ],
   "source": [
    "pais_dic[\"ciudad\"]"
   ]
  }
 ],
 "metadata": {
  "interpreter": {
   "hash": "c85384e4cb51c8b72350f3a8712cc8351fdc3955e32a27f9b60c6242ab125f01"
  },
  "kernelspec": {
   "display_name": "Python 3 (ipykernel)",
   "language": "python",
   "name": "python3"
  },
  "language_info": {
   "codemirror_mode": {
    "name": "ipython",
    "version": 3
   },
   "file_extension": ".py",
   "mimetype": "text/x-python",
   "name": "python",
   "nbconvert_exporter": "python",
   "pygments_lexer": "ipython3",
   "version": "3.11.6"
  }
 },
 "nbformat": 4,
 "nbformat_minor": 4
}
